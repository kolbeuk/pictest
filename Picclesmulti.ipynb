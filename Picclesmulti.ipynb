{
 "cells": [
  {
   "cell_type": "code",
   "execution_count": 1,
   "id": "f21c427f-2892-420d-834d-e6b7954e5256",
   "metadata": {},
   "outputs": [],
   "source": [
    "import os\n",
    "import cv2\n",
    "from openai import OpenAI\n",
    "import base64\n",
    "import time\n",
    "import requests\n",
    "import numpy as np"
   ]
  },
  {
   "cell_type": "code",
   "execution_count": 2,
   "id": "a59b02ac-3f4f-4a31-9d7e-0a66fbe88a06",
   "metadata": {},
   "outputs": [],
   "source": [
    "api_key = os.environ.get(\"OPENAI_API_KEY\")"
   ]
  },
  {
   "cell_type": "code",
   "execution_count": 3,
   "id": "c376ed4f-4c62-4e98-99d6-ba6ad9a2db5a",
   "metadata": {},
   "outputs": [],
   "source": [
    "def split_image(image_name, rows, cols, overlap_percentage):\n",
    "    # Load the image\n",
    "    image = cv2.imread(image_name)\n",
    "\n",
    "    # Calculate the dimensions of each square\n",
    "    height, width, _ = image.shape\n",
    "    square_height = height // rows\n",
    "    square_width = width // cols\n",
    "\n",
    "    # Calculate the overlap size in pixels\n",
    "    overlap_height = square_height * overlap_percentage // 100\n",
    "    overlap_width = square_width * overlap_percentage // 100\n",
    "\n",
    "    # Create a directory to save sub-images\n",
    "    os.makedirs(\"sub_images\", exist_ok=True)\n",
    "\n",
    "    # Split the image into squares with overlap and save them\n",
    "    for i in range(rows):\n",
    "        for j in range(cols):\n",
    "            y_start = i * (square_height - overlap_height)\n",
    "            y_end = (i + 1) * square_height\n",
    "            x_start = j * (square_width - overlap_width)\n",
    "            x_end = (j + 1) * square_width\n",
    "\n",
    "            sub_image = image[y_start:y_end, x_start:x_end]\n",
    "\n",
    "            # Save the sub-image to disk\n",
    "            sub_image_filename = f'sub_images/sub_image_{i}_{j}.jpg'\n",
    "            cv2.imwrite(sub_image_filename, sub_image)\n"
   ]
  },
  {
   "cell_type": "code",
   "execution_count": 4,
   "id": "f971d2f7-1f57-4128-814e-488b1d6b7d56",
   "metadata": {},
   "outputs": [],
   "source": [
    "# Function to encode the image\n",
    "def encode_image(image_name):\n",
    "  with open(image_name, \"rb\") as image_file:\n",
    "    return base64.b64encode(image_file.read()).decode('utf-8')"
   ]
  },
  {
   "cell_type": "code",
   "execution_count": 5,
   "id": "d6017d06-55c8-4623-9ae7-7e23da91adc7",
   "metadata": {},
   "outputs": [],
   "source": [
    "# Define a function to read and encode images from a directory\n",
    "def read_and_encode_images(image_directory):\n",
    "    # List to store base64-encoded images\n",
    "    encoded_images = []\n",
    "\n",
    "    # Get a list of filenames in the directory and sort them alphabetically\n",
    "    image_files = sorted(os.listdir(image_directory))\n",
    "\n",
    "    # Loop through the sorted filenames\n",
    "    for filename in image_files:\n",
    "        if filename.endswith(\".jpg\"):  # Adjust the file extension as needed\n",
    "            image_name = os.path.join(image_directory, filename)\n",
    "\n",
    "            # Encode the image using the encode_image function and append it to the list\n",
    "            base64_image = encode_image(image_name)\n",
    "            encoded_images.append(base64_image)\n",
    "\n",
    "    return encoded_images"
   ]
  },
  {
   "cell_type": "code",
   "execution_count": 6,
   "id": "e125c265-5043-4696-908c-b57e2f6321d0",
   "metadata": {},
   "outputs": [],
   "source": [
    "# Define a function to make the OpenAI API request\n",
    "def make_openai_api_request(api_key, custom_text_message):\n",
    "    # List to store message objects for each image\n",
    "    messages = []\n",
    "\n",
    "    headers = {\n",
    "        \"Content-Type\": \"application/json\",\n",
    "        \"Authorization\": f\"Bearer {api_key}\"\n",
    "    }\n",
    "\n",
    "    # Add a single text message\n",
    "    text_message = {\n",
    "        \"role\": \"user\",\n",
    "        \"content\": [\n",
    "            {\n",
    "                \"type\": \"text\",\n",
    "                \"text\": custom_text_message,\n",
    "            }\n",
    "        ]\n",
    "    }\n",
    "    messages.append(text_message)\n",
    "\n",
    "    # Iterate through encoded images and add image messages\n",
    "    for base64_image in encoded_images:\n",
    "        image_message = {\n",
    "            \"role\": \"user\",\n",
    "            \"content\": [\n",
    "                {\n",
    "                    \"type\": \"image_url\",\n",
    "                    \"image_url\": {\n",
    "                        \"url\": f\"data:image/jpeg;base64,{base64_image}\"\n",
    "                    }\n",
    "                }\n",
    "            ]\n",
    "        }\n",
    "        messages.append(image_message)\n",
    "\n",
    "    # Create the payload with the list of messages\n",
    "    payload = {\n",
    "        \"model\": \"gpt-4-vision-preview\",\n",
    "        \"messages\": messages,\n",
    "        \"max_tokens\": 300\n",
    "    }\n",
    "\n",
    "    # Record the start time\n",
    "    start_time = time.time()\n",
    "\n",
    "    response = requests.post(\"https://api.openai.com/v1/chat/completions\", headers=headers, json=payload)\n",
    "\n",
    "    # Record the end time\n",
    "    end_time = time.time()\n",
    "\n",
    "    # Calculate the elapsed time\n",
    "    elapsed_time = end_time - start_time\n",
    "\n",
    "    # Print the elapsed time\n",
    "    print(f\"API request took {elapsed_time:.2f} seconds\")\n",
    "\n",
    "    return response"
   ]
  },
  {
   "cell_type": "code",
   "execution_count": 7,
   "id": "00830bc4-57ac-4d23-a658-96ecb278fde8",
   "metadata": {},
   "outputs": [],
   "source": [
    "# Define the name of the input image file.\n",
    "image_name = 'storephoto.jpeg'\n",
    "\n",
    "# Define the directory where the sub-images will be saved.\n",
    "image_directory = \"sub_images\"\n",
    "\n",
    "# Define a custom text message to be used in the OpenAI API request.\n",
    "custom_text_message = \"In these images, please specify in which image I can find the lemon grass, and provide a detailed description of the product and the location.\""
   ]
  },
  {
   "cell_type": "code",
   "execution_count": 8,
   "id": "8311c87a-d19b-46ba-9e66-731fd9b330d1",
   "metadata": {},
   "outputs": [],
   "source": [
    "# Example usage with a variable for the image path:\n",
    "# Split the input image into a grid of sub-images.\n",
    "split_image(image_name, rows=2, cols=3, overlap_percentage=10)"
   ]
  },
  {
   "cell_type": "code",
   "execution_count": 9,
   "id": "c421d759-93f4-4873-8633-f85432b1d8de",
   "metadata": {},
   "outputs": [],
   "source": [
    "# Usage:\n",
    "# Read and encode the sub-images located in the specified directory.\n",
    "encoded_images = read_and_encode_images(image_directory)"
   ]
  },
  {
   "cell_type": "code",
   "execution_count": 10,
   "id": "d635268a-6226-40cd-8a53-7876df621eb5",
   "metadata": {},
   "outputs": [
    {
     "name": "stdout",
     "output_type": "stream",
     "text": [
      "API request took 13.68 seconds\n"
     ]
    }
   ],
   "source": [
    "# Usage:\n",
    "# Make an OpenAI API request with the provided API key and custom text message.\n",
    "response = make_openai_api_request(api_key, custom_text_message)"
   ]
  },
  {
   "cell_type": "code",
   "execution_count": 11,
   "id": "69577d91-b583-4bc5-b6fe-332cb73ef414",
   "metadata": {},
   "outputs": [
    {
     "name": "stdout",
     "output_type": "stream",
     "text": [
      "{'id': 'chatcmpl-8Lwhi2iNJzERqT1yQkRa4ZzIbyQRF', 'object': 'chat.completion', 'created': 1700241238, 'model': 'gpt-4-1106-vision-preview', 'usage': {'prompt_tokens': 7029, 'completion_tokens': 150, 'total_tokens': 7179}, 'choices': [{'message': {'role': 'assistant', 'content': 'Lemongrass can be found in the last image provided. Here\\'s the detailed description and location within the image:\\n\\n- Product Name: Cooks\\' Ingredients Lemongrass\\n- Product Description: It appears to be a small glass jar with a label stating \"Lemongrass\" and the brand name is \"Cooks\\' Ingredients,\" which indicates that it likely contains lemongrass suitable for culinary uses.\\n- Location: The product is placed on the middle shelf of the shelving unit. It is situated between \"Palm Sugar\" and \"Wild Mushrooms\" within the herbs and spices section of the store. There are two jars side by side under a shelf label that indicates the price of £1.80.'}, 'finish_details': {'type': 'stop', 'stop': '<|fim_suffix|>'}, 'index': 0}]}\n"
     ]
    }
   ],
   "source": [
    "print(response.json())"
   ]
  },
  {
   "cell_type": "code",
   "execution_count": null,
   "id": "33f97400-8d7c-470f-9aef-7bb60d62e9ab",
   "metadata": {},
   "outputs": [],
   "source": []
  }
 ],
 "metadata": {
  "kernelspec": {
   "display_name": "Python 3 (ipykernel)",
   "language": "python",
   "name": "python3"
  },
  "language_info": {
   "codemirror_mode": {
    "name": "ipython",
    "version": 3
   },
   "file_extension": ".py",
   "mimetype": "text/x-python",
   "name": "python",
   "nbconvert_exporter": "python",
   "pygments_lexer": "ipython3",
   "version": "3.12.0"
  }
 },
 "nbformat": 4,
 "nbformat_minor": 5
}
