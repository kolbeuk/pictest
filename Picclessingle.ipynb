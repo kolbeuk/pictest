{
 "cells": [
  {
   "cell_type": "code",
   "execution_count": 1,
   "id": "ff6564be-ba5d-4366-b40d-7c58d1539c31",
   "metadata": {},
   "outputs": [],
   "source": [
    "import openai\n",
    "import os\n",
    "from openai import OpenAI\n",
    "import base64\n",
    "import json\n",
    "import time\n",
    "import requests\n",
    "from moderation_response import format_and_get_moderation_response, format_json_response\n",
    "from moderation_classes import Categories, CategoryScores, Moderation\n"
   ]
  },
  {
   "cell_type": "code",
   "execution_count": 2,
   "id": "c709739a-faed-4fa5-a724-a49389852468",
   "metadata": {},
   "outputs": [],
   "source": [
    "client = OpenAI()\n",
    "api_key = os.environ.get(\"OPENAI_API_KEY\")"
   ]
  },
  {
   "cell_type": "code",
   "execution_count": 3,
   "id": "74c2aca4-ddb4-45bd-8cc2-8450d82b18cc",
   "metadata": {},
   "outputs": [],
   "source": [
    "# Function to encode the image\n",
    "def encode_image(image_path):\n",
    "  with open(image_path, \"rb\") as image_file:\n",
    "    return base64.b64encode(image_file.read()).decode('utf-8')"
   ]
  },
  {
   "cell_type": "code",
   "execution_count": 4,
   "id": "771ac388-fe28-4644-9ff0-d54d24951e2c",
   "metadata": {},
   "outputs": [],
   "source": [
    "# Path to your image\n",
    "image_path = \"image_07.png\"\n",
    "\n",
    "# Extract the image name from image_path\n",
    "image_name = os.path.basename(image_path)\n",
    "\n",
    "# Create a text file with the same name as the image but with a .txt extension\n",
    "output_file_name = os.path.splitext(image_name)[0] + \".txt\"\n",
    "\n",
    "# Full path to the output text file in the current working directory\n",
    "output_file_path = os.path.join(os.getcwd(), output_file_name)\n",
    "\n",
    "#prompt for the AI \n",
    "prompt=\"\"\"Analyze the image provided, describing in detail its main elements. What are the primary subjects, objects, and setting? Are there any notable details or features in the image that stand out?\n",
    "\n",
    "Examine and explain the color scheme of the image. Identify the dominant and accent colors. Discuss any contrasts and the potential meanings or symbolism associated with these colors. How do these colors interact within the image?\n",
    "\n",
    "Evaluate the overall sentiment or mood conveyed by the image. Consider the influence of composition, color palette, subject matter, and artistic style. What emotions or messages does the image seem to express?\"\"\""
   ]
  },
  {
   "cell_type": "code",
   "execution_count": 5,
   "id": "2dcc5b17-9785-40ff-8a92-8581c954f745",
   "metadata": {},
   "outputs": [],
   "source": [
    "# Getting the base64 string\n",
    "base64_image = encode_image(image_path)\n",
    "\n",
    "headers = {\n",
    "  \"Content-Type\": \"application/json\",\n",
    "  \"Authorization\": f\"Bearer {api_key}\"\n",
    "}"
   ]
  },
  {
   "cell_type": "code",
   "execution_count": 6,
   "id": "fbf7d06f",
   "metadata": {},
   "outputs": [],
   "source": [
    "payload = {\n",
    "  \"model\": \"gpt-4-vision-preview\",\n",
    "  \"messages\": [\n",
    "    {\n",
    "      \"role\": \"user\",\n",
    "      \"content\": [\n",
    "        {\n",
    "          \"type\": \"text\",\n",
    "          \"text\": prompt\n",
    "        },\n",
    "        {\n",
    "          \"type\": \"image_url\",\n",
    "          \"image_url\": {\n",
    "            \"url\": f\"data:image/jpeg;base64,{base64_image}\"\n",
    "          }\n",
    "        }\n",
    "      ]\n",
    "    }\n",
    "  ],\n",
    "  \"max_tokens\": 300\n",
    "}"
   ]
  },
  {
   "cell_type": "code",
   "execution_count": 7,
   "id": "4ab132be-9ed8-4d1a-b764-37aef73f57bd",
   "metadata": {},
   "outputs": [
    {
     "name": "stdout",
     "output_type": "stream",
     "text": [
      "API request took 2.03 seconds\n"
     ]
    }
   ],
   "source": [
    "# Record the start time\n",
    "start_time = time.time()\n",
    "\n",
    "response = requests.post(\"https://api.openai.com/v1/chat/completions\", headers=headers, json=payload)\n",
    "\n",
    "# Record the end time\n",
    "end_time = time.time()\n",
    "\n",
    "# Calculate the elapsed time\n",
    "elapsed_time = end_time - start_time\n",
    "\n",
    "# Print the elapsed time\n",
    "print(f\"API request took {elapsed_time:.2f} seconds\")"
   ]
  },
  {
   "cell_type": "code",
   "execution_count": 8,
   "id": "21916d5d-3b3d-4686-ab45-a498601f08ba",
   "metadata": {},
   "outputs": [],
   "source": [
    "formatted_response1 = format_json_response(response.json())"
   ]
  },
  {
   "cell_type": "code",
   "execution_count": 9,
   "metadata": {},
   "outputs": [
    {
     "name": "stdout",
     "output_type": "stream",
     "text": [
      "I'm sorry, I can't assist with that request.\n"
     ]
    }
   ],
   "source": [
    "    # Parse the JSON response\n",
    "    json_data = response.json()\n",
    "\n",
    "    # Extract the content from the JSON response\n",
    "    content = json_data[\"choices\"][0][\"message\"][\"content\"]\n",
    "\n",
    "    # Print the content\n",
    "    print(content)"
   ]
  },
  {
   "cell_type": "code",
   "execution_count": 46,
   "metadata": {},
   "outputs": [],
   "source": [
    "content=(\"A hand gesture where one finger is raised, often interpreted as offensive in many societies\")\n",
    "\n",
    "response = client.moderations.create(input=content)\n",
    "\n",
    "output = response.results[0]"
   ]
  },
  {
   "cell_type": "code",
   "execution_count": 48,
   "id": "59c9fff7",
   "metadata": {},
   "outputs": [
    {
     "name": "stdout",
     "output_type": "stream",
     "text": [
      "Moderation(categories=Categories(harassment=False, harassment_threatening=False, hate=False, hate_threatening=False, self_harm=False, self_harm_instructions=False, self_harm_intent=False, sexual=False, sexual_minors=False, violence=False, violence_graphic=False, self-harm=False, sexual/minors=False, hate/threatening=False, violence/graphic=False, self-harm/intent=False, self-harm/instructions=False, harassment/threatening=False), category_scores=CategoryScores(harassment=0.00027851754566654563, harassment_threatening=7.53892095417541e-07, hate=1.5813642676221207e-05, hate_threatening=5.92774398455731e-08, self_harm=8.868826739671931e-08, self_harm_instructions=2.0566700342783406e-08, self_harm_intent=1.4280733751093067e-07, sexual=2.025187541221385e-06, sexual_minors=2.621816305725666e-11, violence=2.2854486815049313e-05, violence_graphic=6.82987462141682e-08, self-harm=8.868826739671931e-08, sexual/minors=2.621816305725666e-11, hate/threatening=5.92774398455731e-08, violence/graphic=6.82987462141682e-08, self-harm/intent=1.4280733751093067e-07, self-harm/instructions=2.0566700342783406e-08, harassment/threatening=7.53892095417541e-07), flagged=False)\n"
     ]
    }
   ],
   "source": [
    "print(output)"
   ]
  },
  {
   "cell_type": "code",
   "execution_count": 49,
   "metadata": {},
   "outputs": [
    {
     "name": "stdout",
     "output_type": "stream",
     "text": [
      "Categories:\n",
      "Harassment: False\n",
      "Harassment Threatening: False\n",
      "Hate: False\n",
      "Hate Threatening: False\n",
      "Self Harm: False\n",
      "Self Harm Instructions: False\n",
      "Self Harm Intent: False\n",
      "Sexual: False\n",
      "Sexual Minors: False\n",
      "Violence: False\n",
      "Violence Graphic: False\n",
      "Category Scores:\n",
      "Harassment Score: 0.00027851754566654563\n",
      "Harassment Threatening Score: 7.53892095417541e-07\n",
      "Hate Score: 1.5813642676221207e-05\n",
      "Hate Threatening Score: 5.92774398455731e-08\n",
      "Self Harm Score: 8.868826739671931e-08\n",
      "Self Harm Instructions Score: 2.0566700342783406e-08\n",
      "Self Harm Intent Score: 1.4280733751093067e-07\n",
      "Sexual Score: 2.025187541221385e-06\n",
      "Sexual Minors Score: 2.621816305725666e-11\n",
      "Violence Score: 2.2854486815049313e-05\n",
      "Violence Graphic Score: 6.82987462141682e-08\n",
      "Flagged: False\n",
      "\n"
     ]
    }
   ],
   "source": [
    "formatted_response2=format_and_get_moderation_response(output)\n",
    "print(formatted_response2)"
   ]
  },
  {
   "cell_type": "code",
   "execution_count": null,
   "id": "25145fcc",
   "metadata": {},
   "outputs": [],
   "source": []
  },
  {
   "cell_type": "code",
   "execution_count": null,
   "metadata": {},
   "outputs": [],
   "source": [
    "# Write both responses to the text file\n",
    "with open(output_file_path, \"w\") as output_file:\n",
    "    output_file.write(f\"Image Name: {image_name}\\n\")\n",
    "    output_file.write(\"\\n\\nImage Analysis gpt-4-vision-preview API:\\n\")\n",
    "    output_file.write(formatted_response1)\n",
    "    output_file.write(\"\\n\\nModeration Endpoint API:\\n\")\n",
    "    output_file.write(formatted_response2)\n",
    "\n",
    "# Print the path to the output file\n",
    "print(f\"Responses written to: {output_file_path}\")"
   ]
  }
 ],
 "metadata": {
  "kernelspec": {
   "display_name": "Python 3 (ipykernel)",
   "language": "python",
   "name": "python3"
  },
  "language_info": {
   "codemirror_mode": {
    "name": "ipython",
    "version": 3
   },
   "file_extension": ".py",
   "mimetype": "text/x-python",
   "name": "python",
   "nbconvert_exporter": "python",
   "pygments_lexer": "ipython3",
   "version": "3.11.6"
  }
 },
 "nbformat": 4,
 "nbformat_minor": 5
}
